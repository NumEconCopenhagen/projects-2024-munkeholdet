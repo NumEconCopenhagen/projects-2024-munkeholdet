{
 "cells": [
  {
   "cell_type": "markdown",
   "metadata": {},
   "source": [
    "**Table of contents**<a id='toc0_'></a>    \n",
    "- 1. [Problem 1: Production economy and CO2 taxation](#toc1_)    \n",
    "- 2. [Problem 2: Career choice model](#toc2_)    \n",
    "- 3. [Problem 3: Barycentric interpolation](#toc3_)    \n",
    "\n",
    "<!-- vscode-jupyter-toc-config\n",
    "\tnumbering=true\n",
    "\tanchor=true\n",
    "\tflat=false\n",
    "\tminLevel=2\n",
    "\tmaxLevel=6\n",
    "\t/vscode-jupyter-toc-config -->\n",
    "<!-- THIS CELL WILL BE REPLACED ON TOC UPDATE. DO NOT WRITE YOUR TEXT IN THIS CELL -->"
   ]
  },
  {
   "cell_type": "code",
   "execution_count": null,
   "metadata": {},
   "outputs": [],
   "source": [
    "# Write your code here\n",
    "%load_ext autoreload\n",
    "%autoreload all\n",
    "import numpy as np\n",
    "from types import SimpleNamespace"
   ]
  },
  {
   "cell_type": "markdown",
   "metadata": {},
   "source": [
    "## 1. <a id='toc1_'></a>[Problem 1: Production economy and CO2 taxation](#toc0_)"
   ]
  },
  {
   "cell_type": "markdown",
   "metadata": {},
   "source": [
    "Consider a production economy with two firms indexed by $j \\in \\{1,2\\}$. Each produce its own good. They solve\n",
    "\n",
    "$$\n",
    "\\begin{align*}\n",
    "\\max_{y_{j}}\\pi_{j}&=p_{j}y_{j}-w_{j}\\ell_{j}\\\\\\text{s.t.}\\;&y_{j}=A\\ell_{j}^{\\gamma}.\n",
    "\\end{align*}\n",
    "$$\n",
    "\n",
    "Optimal firm behavior is\n",
    "\n",
    "$$\n",
    "\\begin{align*}\n",
    "\\ell_{j}^{\\star}(w,p_{j})&=\\left(\\frac{p_{j}A\\gamma}{w}\\right)^{\\frac{1}{1-\\gamma}} \\\\\n",
    "y_{j}^{\\star}(w,p_{j})&=A\\left(\\ell_{j}^{\\star}(w,p_{j})\\right)^{\\gamma}\n",
    "\\end{align*}\n",
    "$$\n",
    "\n",
    "The implied profits are\n",
    "\n",
    "$$\n",
    "\\pi_{j}^*(w,p_{j})=\\frac{1-\\gamma}{\\gamma}w\\cdot\\left(\\frac{p_{j}A\\gamma}{w}\\right)^{\\frac{1}{1-\\gamma}}\n",
    "$$\n",
    "\n",
    "A single consumer supplies labor, and consumes the goods the firms produce. She also recieves the implied profits of the firm.<br>\n",
    "She solves:\n",
    "\n",
    "$$\n",
    "\\begin{align*}\n",
    "U(p_1,p_2,w,\\tau,T) = \\max_{c_{1},c_{2},\\ell} & \\log(c_{1}^{\\alpha}c_{2}^{1-\\alpha})-\\nu\\frac{\\ell^{1+\\epsilon}}{1+\\epsilon} \\\\\n",
    "\\text{s.t.}\\,\\,\\,&p_{1}c_{1}+(p_{2}+\\tau)c_{2}=w\\ell+T+\\pi_{1}^*(w,p_{1})+\\pi_{2}^*(w,p_{2})\n",
    "\\end{align*}\n",
    "$$\n",
    "\n",
    "where $\\tau$ is a tax and $T$ is lump-sum transfer. <br>\n",
    "For a given $\\ell$, it can be shown that optimal behavior is\n",
    "\n",
    "$$\n",
    "\\begin{align*}\n",
    "c_{1}(\\ell)&=\\alpha\\frac{w\\ell+T+\\pi_{1}^*(w,p_{1})+\\pi_{2}^*(w,p_{2})}{p_{1}} \\\\\n",
    "c_{2}(\\ell)&=(1-\\alpha)\\frac{w\\ell+T+\\pi_{1}^*(w,p_{1})+\\pi_{2}^*(w,p_{2})}{p_{2}+\\tau} \\\\\n",
    "\\end{align*}\n",
    "$$\n",
    "Such that optimal behavior is:\n",
    "$$\n",
    "\\ell^* = \\underset{\\ell}{\\arg\\max} \\log(\\left(c_{1}(\\ell)\\right)^{\\alpha}\\cdot \\left(c_{2}(\\ell)\\right)^{1-\\alpha})-\\nu\\frac{\\ell^{1+\\epsilon}}{1+\\epsilon} \n",
    "$$\n",
    "With optimal consumption:\n",
    "$$\n",
    "\\begin{align*}\n",
    "c_1^*=c_{1}(\\ell^*) \\\\\n",
    "c_2^*=c_{2}(\\ell^*)\\\\\n",
    "\\end{align*}\n",
    "$$\n",
    "\n",
    "\n",
    "The government chooses $\\tau$ and balances its budget so $T=\\tau c_2^*$. We initially set $\\tau,T=0$.\n",
    "\n",
    "Market clearing requires:\n",
    "\n",
    "1. Labor market: $\\ell^* = \\ell_1^* + \\ell_2^*$\n",
    "1. Good market 1: $c_1^* = y_1^*$\n",
    "1. Good market 2: $c_2^* = y_2^*$\n"
   ]
  },
  {
   "cell_type": "markdown",
   "metadata": {},
   "source": [
    "**Question 1:** Check market clearing conditions for $p_1$ in `linspace(0.1,2.0,10)` and $p_2$ in `linspace(0.1,2.0,10)`. We choose $w=1$ as numeraire."
   ]
  },
  {
   "cell_type": "code",
   "execution_count": null,
   "metadata": {},
   "outputs": [],
   "source": [
    "par = SimpleNamespace()\n",
    "\n",
    "# firms\n",
    "par.A = 1.0\n",
    "par.gamma = 0.5\n",
    "\n",
    "# households\n",
    "par.alpha = 0.3\n",
    "par.nu = 1.0\n",
    "par.epsilon = 2.0\n",
    "\n",
    "# government\n",
    "par.tau = 0.0\n",
    "par.T = 0.0\n",
    "\n",
    "# Question 3\n",
    "par.kappa = 0.1\n",
    "par.w = 1.0"
   ]
  },
  {
   "cell_type": "code",
   "execution_count": null,
   "metadata": {},
   "outputs": [],
   "source": [
    "# write you answer here\n"
   ]
  },
  {
   "cell_type": "markdown",
   "metadata": {},
   "source": [
    "**Question 2:** Find the equilibrium prices $p_1$ and $p_2$.<br>\n",
    "*Hint: you can use Walras' law to only check 2 of the market clearings*"
   ]
  },
  {
   "cell_type": "code",
   "execution_count": null,
   "metadata": {},
   "outputs": [],
   "source": [
    "# write your answer here"
   ]
  },
  {
   "cell_type": "markdown",
   "metadata": {},
   "source": [
    "Assume the government care about the social welfare function:\n",
    "\n",
    "$$\n",
    "SWF = U - \\kappa y_2^*\n",
    "$$"
   ]
  },
  {
   "cell_type": "markdown",
   "metadata": {},
   "source": [
    "Here $\\kappa$ measures the social cost of carbon emitted by the production of $y_2$ in equilibrium."
   ]
  },
  {
   "cell_type": "markdown",
   "metadata": {},
   "source": [
    "**Question 3:** What values of $\\tau$ and (implied) $T$ should the government choose to maximize $SWF$?"
   ]
  },
  {
   "cell_type": "code",
   "execution_count": null,
   "metadata": {},
   "outputs": [],
   "source": [
    "# write your answer here"
   ]
  },
  {
   "cell_type": "markdown",
   "metadata": {},
   "source": [
    "## 2. <a id='toc2_'></a>[Problem 2: Career choice model](#toc0_)"
   ]
  },
  {
   "cell_type": "markdown",
   "metadata": {},
   "source": [
    "Consider a graduate $i$ making a choice between entering $J$ different career tracks. <br>\n",
    "Entering career $j$ yields utility $u^k_{ij}$. This value is unknown to the graduate ex ante, but will ex post be: <br>\n",
    "$$\n",
    "    u_{i,j}^k = v_{j} + \\epsilon_{i,j}^k\n",
    "$$\n",
    "\n",
    "They know that $\\epsilon^k_{i,j}\\sim \\mathcal{N}(0,\\sigma^2)$, but they do not observe $\\epsilon^k_{i,j}$ before making their career choice. <br>"
   ]
  },
  {
   "cell_type": "markdown",
   "metadata": {},
   "source": [
    "Consider the concrete case of $J=3$ with:\n",
    "$$\n",
    "\\begin{align*}\n",
    "    v_{1} &= 1 \\\\\n",
    "    v_{2} &= 2 \\\\\n",
    "    v_{3} &= 3\n",
    "\\end{align*}\n",
    "$$"
   ]
  },
  {
   "cell_type": "markdown",
   "metadata": {},
   "source": [
    "If the graduates know the values of $v_j$ and the distribution of $\\epsilon_{i,j}^k$, they can calculate the expected utility of each career track using simulation: <br>\n",
    "$$\n",
    "    \\mathbb{E}\\left[ u^k_{i,j}\\vert v_j \\right] \\approx v_j + \\frac{1}{K}\\sum_{k=1}^K \\epsilon_{i,j}^k\n",
    "$$"
   ]
  },
  {
   "cell_type": "code",
   "execution_count": null,
   "metadata": {},
   "outputs": [],
   "source": [
    "par = SimpleNamespace()\n",
    "par.J = 3\n",
    "par.N = 10\n",
    "par.K = 10000\n",
    "\n",
    "par.F = np.arange(1,par.N+1)\n",
    "par.sigma = 2\n",
    "\n",
    "par.v = np.array([1,2,3])\n",
    "par.c = 1"
   ]
  },
  {
   "cell_type": "markdown",
   "metadata": {},
   "source": [
    "**Question 1:** Simulate and calculate expected utility and the average realised utility for $K=10000$ draws, for each career choice $j$.\n"
   ]
  },
  {
   "cell_type": "markdown",
   "metadata": {},
   "source": [
    "### Comments ###\n",
    "\n",
    " - Each career choice is has an increasing value, of 1, 2 and 3. The error terms gives slight variation, but it is still expected for career 3 to have the highest utility\n",
    " - Because of the wording we assume \"calculate expected utility\" and \"average realised utility\" is not the same. We assume expected utility are for each graduate, since the error term in the expected utility changes for each i (for each student) in the formula given. Therefore a **student** draws 10000 expectations for each career choice. The average realised utility is the average of each career choice given the 10 students expectations for each career."
   ]
  },
  {
   "cell_type": "code",
   "execution_count": null,
   "metadata": {},
   "outputs": [],
   "source": [
    "# write your answer here\n",
    "\n",
    "import sympy as sm\n",
    "import scipy as sp\n",
    "import matplotlib.pyplot as plt\n",
    "from scipy import linalg\n",
    "from scipy import optimize\n",
    "from scipy import interpolate\n",
    "\n",
    "np.random.seed(2024) # define a seed, so we can replicate simulate error term\n",
    "\n",
    "#mean_of_career = np.mean(np.mean(epsilon, axis=1), axis=1) # find the mean of each career, so we get 3 lists of 10 people.\n",
    "graduate_mean_career = np.zeros((par.N, par.J))\n",
    "for i in range(par.N):\n",
    "    epsilon = np.random.normal(0, par.sigma, (par.K, par.J)) # simulation with mean 0 and given sigma of 2. We have 3 careers, 10 people and 10000 repetitions.\n",
    "    mean_of_career = np.mean(epsilon, axis=0) # find the mean of each career.\n",
    "    graduate_mean_career[i, :] = mean_of_career\n",
    "\n",
    "average_realised_utility = np.mean(graduate_mean_career,axis=0) # average over all graduates\n",
    "for j in range(par.J):\n",
    "      average_realised_utility[j] += 1+j\n",
    "\n",
    "graduate = 0\n",
    "\n",
    "for i in graduate_mean_career:\n",
    "        print(\"Graduate \" + str(graduate+1) + \" expects the following values for career 1, 2, 3: \"\n",
    "              + str(round(graduate_mean_career[graduate][0],4)+1) + \" , \" +\n",
    "              str(round(graduate_mean_career[graduate][1],4)+2) + \" , \" +\n",
    "              str(round(graduate_mean_career[graduate][2],4)+3) + \" , respectively.\")\n",
    "        graduate += 1\n",
    "\n",
    "print(\"The average realised utility for career 1, 2, 3 is: \" +\n",
    "      str(round(average_realised_utility[0],4)) + \" , \" +\n",
    "      str(round(average_realised_utility[1],4)) + \" , \" +\n",
    "      str(round(average_realised_utility[2],4)) + \" , respectively\" )\n"
   ]
  },
  {
   "cell_type": "markdown",
   "metadata": {},
   "source": [
    "### Conclusion ###\n",
    "\n",
    "- We see career choice 3 has the highest utility"
   ]
  },
  {
   "cell_type": "markdown",
   "metadata": {},
   "source": [
    "Now consider a new scenario: Imagine that the graduate does not know $v_j$. The *only* prior information they have on the value of each job, comes from their $F_{i}$ friends that work in each career $j$. After talking with them, they know the average utility of their friends (which includes their friends' noise term), giving them the prior expecation: <br>\n",
    "$$\n",
    "\\tilde{u}^k_{i,j}\\left( F_{i}\\right) = \\frac{1}{F_{i}}\\sum_{f=1}^{F_{i}} \\left(v_{j} + \\epsilon^k_{f,j}\\right), \\; \\epsilon^k_{f,j}\\sim \\mathcal{N}(0,\\sigma^2)\n",
    "$$\n",
    "For ease of notation consider that each graduate have $F_{i}=i$ friends in each career. <br>"
   ]
  },
  {
   "cell_type": "markdown",
   "metadata": {},
   "source": [
    "For $K$ times do the following: <br>\n",
    "1. For each person $i$ draw $J\\cdot F_i$ values of $\\epsilon_{f,j}^{k}$, and calculate the prior expected utility of each career track, $\\tilde{u}^k_{i,j}\\left( F_{i}\\right)$. <br>\n",
    "Also draw their own $J$ noise terms, $\\epsilon_{i,j}^k$\n",
    "1. Each person $i$ chooses the career track with the highest expected utility: $$j_i^{k*}= \\arg\\max_{j\\in{1,2\\dots,J}}\\left\\{ \\tilde{u}^k_{i,j}\\left( F_{i}\\right)\\right\\} $$\n",
    "1. Store the chosen careers: $j_i^{k*}$, the prior expectation of the value of their chosen career: $\\tilde{u}^k_{i,j=j_i^{k*}}\\left( F_{i}\\right)$, and the realized value of their chosen career track: $u^k_{i,j=j_i^{k*}}=v_{j=j_i^{k*}}+\\epsilon_{i,j=j_i^{k*}}^k$."
   ]
  },
  {
   "cell_type": "markdown",
   "metadata": {},
   "source": [
    "Chosen values will be: <br>\n",
    "$i\\in\\left\\{1,2\\dots,N\\right\\}, N=10$ <br>\n",
    "$F_i = i$<br>\n",
    "So there are 10 graduates. The first has 1 friend in each career, the second has 2 friends, ... the tenth has 10 friends."
   ]
  },
  {
   "cell_type": "markdown",
   "metadata": {},
   "source": [
    "**Question 2:** Simulate and visualize: For each type of graduate, $i$, the share of graduates choosing each career, the average subjective expected utility of the graduates, and the average ex post realized utility given their choice. <br>\n",
    "That is, calculate and visualize: <br>\n",
    "$$\n",
    "\\begin{align*}\n",
    "    \\frac{1}{K} \\sum_{k=1}^{K} \\mathbb{I}\\left\\{ j=j_i^{k*} \\right\\}  \\;\\forall j\\in\\left\\{1,2,\\dots,J\\right\\}\n",
    "\\end{align*}\n",
    "$$\n",
    "$$\n",
    "\\begin{align*}\n",
    "    \\frac{1}{K} \\sum_{k=1}^{K} \\tilde{u}^k_{ij=j_i^{k*}}\\left( F_{i}\\right)\n",
    "\\end{align*}\n",
    "$$\n",
    "And \n",
    "$$\n",
    "\\begin{align*}\n",
    "    \\frac{1}{K} \\sum_{k=1}^{K} u^k_{ij=j_i^{k*}} \n",
    "\\end{align*}\n",
    "$$\n",
    "For each graduate $i$."
   ]
  },
  {
   "cell_type": "markdown",
   "metadata": {},
   "source": [
    "## Comments ##\n",
    " - Each friend has an error term given by epsilon_friends, that is normally distributed with mean 0 and std dev of 2.\n",
    "\n",
    " - We notice the friends have their own error term, that also impacts on the graduates own utility + the graduates own additional error term\n",
    " \n",
    " - Each friend is unique and graduates don't inherit friends between the same career options. (easy to adjust, if you want inheritance, just provide a list instead of a generator)\n",
    " \n",
    " - Then their prior utility is calculated, and at last their chosen career track of which gives the highest yield, given the mean of their friends."
   ]
  },
  {
   "cell_type": "code",
   "execution_count": null,
   "metadata": {},
   "outputs": [],
   "source": [
    "np.random.seed(2023)\n",
    "\n",
    "def epsilon_friends(amount_of_friends): # generator for error term for friends\n",
    "    # there is no inheritence between individual i's friend and i+1's friend!\n",
    "    return np.random.normal(0, par.sigma, (amount_of_friends, par.J))\n",
    "\n",
    "\n",
    "def epsilon_graduates():\n",
    "    global epsilon_graduates_list\n",
    "    epsilon_graduates_list = np.zeros((par.N, par.J))\n",
    "    \n",
    "    for i in range(len(epsilon_graduates_list)):\n",
    "        epsilon_graduates_list[i] = np.random.normal(0, par.sigma, par.J)\n",
    "    \n",
    "    return epsilon_graduates_list\n",
    "\n",
    "\n",
    "def average_utility_friends_function(): # function to calculate the subjective utility from friends\n",
    "    global average_utility_friends\n",
    "\n",
    "    average_utility_friends = np.zeros((par.N, par.J)) # define array of friends x career options\n",
    "\n",
    "    for i in range(1,par.N+1): # loop over number of friends each graduate has\n",
    "        draw_friends = epsilon_friends(i) # draw error term for friends, and gives a list based on the amount of friends i.\n",
    "        average_utility_friends[i-1, :] = np.mean(draw_friends, axis=0) # add the mean of the drawn error terms to the list\n",
    "    \n",
    "    for v in par.v:\n",
    "        average_utility_friends[:,v-1] += v # add the actual utility of the career\n",
    "\n",
    "    return average_utility_friends\n",
    "\n",
    "\n",
    "def share_of_career_selection(): # calculate proportions of graduates that chooses careers\n",
    "    global career_selection\n",
    "    career_selection = np.argmax(average_utility_friends, axis=1) + 1 # select the career with highest utility, based on friends averaged utility\n",
    "\n",
    "    career_share = np.zeros(par.J) # define array to store career shares\n",
    "    for i in range(par.J):\n",
    "        career_share[i] = np.count_nonzero(career_selection == i+1) / par.N # if career is in the career_selection list, then count it. Divide by number of graduates to get proportion\n",
    "\n",
    "    return career_share\n",
    "\n",
    "\n",
    "def exp_post_graduates_utility():\n",
    "\n",
    "    global utility_of_career_choice\n",
    "    utility_of_career_choice = np.zeros(par.N)\n",
    "\n",
    "    for i in range(par.N):\n",
    "        for v in par.v:\n",
    "            if career_selection[i] == v:\n",
    "                utility_of_career_choice[i] = v + epsilon_graduates()[i][v-1]\n",
    "    return utility_of_career_choice\n",
    "\n",
    "fig, axs = plt.subplots(3, 1, figsize=(10, 15)) # initialize 3 subplots\n",
    "\n",
    "axs[1].bar(np.arange(1, par.N+1), np.max(average_utility_friends_function(), axis=1), label='Career 1') # average subjective expected utility\n",
    "\n",
    "axs[1].set_title('Average subjective utility of graduates')\n",
    "axs[1].set_xlabel('Graduates')\n",
    "axs[1].set_ylabel('Subjective expected utility')\n",
    "axs[1].set_ylim(top=8)\n",
    "\n",
    "axs[0].pie(share_of_career_selection(), labels=[f'Career {j+1}' for j in range(par.J)],autopct='%1.1f%%') # pie chart of career proportions\n",
    "axs[0].set_title('Share of graduates choosing each career')\n",
    "\n",
    "axs[2].bar(np.arange(1, par.N+1), exp_post_graduates_utility()) # average ex post realized utility\n",
    "axs[2].set_title('Average ex post utility')\n",
    "axs[2].set_xlabel('Graduates')\n",
    "axs[2].set_ylabel('Ex post utility')\n",
    "axs[2].set_ylim(top=8)\n",
    "\n",
    "plt.tight_layout()\n",
    "plt.show()"
   ]
  },
  {
   "cell_type": "markdown",
   "metadata": {},
   "source": [
    "### Conclusion ###\n",
    "\n",
    " - The pie chart shows a distribution of 10% career 1, 30% career 2 and 40% career 3.\n",
    "\n",
    " - The  outlier for career 1 is because of the high expectation given from his single friend from career 1, as seen on the expected utility. This results in \n",
    "\n",
    " - For each graduate increase in friends, we expect the deviation to go away and the true nature of career 3 with the highest utility is to be expected.\n",
    "\n",
    " - The graduates own error term can also weigh high. For graduate 7 it can be seen, with a very high ex ante utility of 6.57, although his expectations are defined by his friends choice."
   ]
  },
  {
   "cell_type": "markdown",
   "metadata": {},
   "source": [
    "After a year of working in their career, the graduates learn $u^k_{ij}$ for their chosen job $j_i^{k*}$ perfectly. <br>\n",
    "The can switch to one of the two remaining careers, for which they have the same prior as before, but it will now include a switching cost of $c$ which is known.\n",
    "Their new priors can be written as: \n",
    "$$\n",
    "\\tilde{u}^{k,2}_{ij}\\left( F_{i}\\right) = \\begin{cases}\n",
    "            \\tilde{u}^k_{ij}\\left( F_{i}\\right)-c & \\text{if } j \\neq j_i^{k*} \\\\\n",
    "            u_{ij=j_i^{k*}} & \\text{if } j = j_i^{k*}\n",
    "        \\end{cases}\n",
    "$$"
   ]
  },
  {
   "cell_type": "markdown",
   "metadata": {},
   "source": [
    "We will set $c=1$."
   ]
  },
  {
   "cell_type": "markdown",
   "metadata": {},
   "source": [
    "Their realized utility will be: <br>\n",
    "$$\n",
    "u^{k,2}_{ij}= \\begin{cases}\n",
    "            u_{ij}^k -c & \\text{if } j \\neq j_i^{k*} \\\\\n",
    "            u_{ij=j_i^{k*}} & \\text{if } j = j_i^{k*}\n",
    "        \\end{cases}\n",
    "$$"
   ]
  },
  {
   "cell_type": "markdown",
   "metadata": {},
   "source": [
    "**Question 3:** Following the same approach as in question 2, find the new optimal career choice for each $i$, $k$. Then for each $i$, calculate the average subjective expected utility from their new optimal career choice, and the ex post realized utility of that career. Also, for each $i$, calculate the share of graduates that chooses to switch careers, conditional on which career they chose in the first year. <br>"
   ]
  },
  {
   "cell_type": "code",
   "execution_count": null,
   "metadata": {},
   "outputs": [],
   "source": [
    "# write your answer here\n",
    "np.random.seed(2024)\n",
    "\n",
    "new_career_choice = np.zeros(par.N, dtype=int) # define array for which new career they choose\n",
    "new_realized_utility = np.zeros(par.N)\n",
    "switch_decision = np.zeros(par.N, dtype=bool) # if they switch career, it will be true\n",
    "\n",
    "for i in range(par.N):\n",
    "    initial_career = career_selection[i]-1 # initial career choice\n",
    "    initial_utility = utility_of_career_choice[i] # initial utility\n",
    "    remaining_careers = np.setdiff1d(np.arange(par.J), initial_career) # find the remaining careers that graduate didn't pick\n",
    "    new_utilities_with_cost = par.v[remaining_careers] - par.c + epsilon_graduates_list[i][remaining_careers] #np.random.normal(0, par.sigma, len(remaining_careers)) # calculate new utility with cost of -1 for c\n",
    "    career_selection_after = career_selection.copy()\n",
    "\n",
    "    if initial_utility >= np.max(new_utilities_with_cost): # logic comparison to see if they should switch career\n",
    "        new_career_choice[i] = initial_career # insert the same value as before\n",
    "        new_realized_utility[i] = initial_utility # same here\n",
    "        switch_decision[i] = False\n",
    "    else:\n",
    "        new_career_choice[i] = remaining_careers[np.argmax(new_utilities_with_cost)] # the career with highest utility gets chosen\n",
    "        new_realized_utility[i] = new_utilities_with_cost[np.argmax(new_utilities_with_cost)] # and corresponding utility\n",
    "        switch_decision[i] = True\n",
    "\n",
    "def share_of_career_switch():\n",
    "\n",
    "    career_selection_after_switch = [] # initialize empty list for career selection after switch\n",
    "\n",
    "    for i in range(len(career_selection)):\n",
    "        if new_career_choice[i]+1 == career_selection[i]: # if the new career choice is the same as the old one, then execeture\n",
    "            career_selection_after_switch.append(career_selection[i]) # append old career\n",
    "        else:\n",
    "            print(\"Graduate \" + str(i+1) + \" switched to career \" + str(new_career_choice[i]+1) + \" from career \" + str(career_selection[i]))\n",
    "            career_selection_after_switch.append(new_career_choice[i]+1) # append new career\n",
    "\n",
    "    career_selection_after_switch = np.array(career_selection_after_switch) # make it to numpy array\n",
    "\n",
    "    career1_switch_conditional = np.count_nonzero((career_selection == 1) & switch_decision) # count if the career is the first career and they switched\n",
    "    career2_switch_conditional = np.count_nonzero((career_selection == 2) & switch_decision) # same for career 2\n",
    "    career3_switch_conditional = np.count_nonzero((career_selection == 3) & switch_decision) # same for career 3\n",
    " \n",
    "    share_switch_career1 = career1_switch_conditional / np.count_nonzero(career_selection == 1) # calculate shares\n",
    "    share_switch_career2 = career2_switch_conditional / np.count_nonzero(career_selection == 2)\n",
    "    share_switch_career3 = career3_switch_conditional / np.count_nonzero(career_selection == 3)\n",
    "\n",
    "    print(\"List of career selections before switch: \" + str(career_selection))\n",
    "    print(\"List of career selections after switch: \" + str(career_selection_after_switch))\n",
    "    print(\"Share of graduates in career 1 that chose to switch career from last year: \" + str(share_switch_career1) + \"\\n\" +\n",
    "           \"Share of graduates in career 2 that chose to switch career from last year: \" + str(share_switch_career2) + \"\\n\" +\n",
    "           \"Share of graduates in career 3 that chose to switch career from last year: \" + str( share_switch_career3))\n",
    "    \n",
    "    return None\n",
    "\n",
    "share_of_career_switch()\n",
    "\n",
    "shares_switching = np.mean(switch_decision) # calculate shares of graduates switching careers\n",
    "average_subjective_utility_new = np.mean([average_utility_friends[i, new_career_choice[i]] for i in range(par.N)]) # calculate average subjective utility\n",
    "average_realized_utility_new = np.mean(new_realized_utility) # calculate exp post realized utility\n",
    "\n",
    "\n",
    "fig, axs = plt.subplots(3, 1, figsize=(10, 15))\n",
    "\n",
    "\n",
    "axs[0].bar(['Switched', 'Stayed'], [shares_switching, 1 - shares_switching])\n",
    "axs[0].set_title('Share of graduates switching careers')\n",
    "axs[0].set_ylabel('Share')\n",
    "\n",
    "\n",
    "axs[1].bar(np.arange(1, par.N+1), [average_utility_friends[i, new_career_choice[i]] for i in range(par.N)])\n",
    "axs[1].set_title('Prior expected utility')\n",
    "axs[1].set_xlabel('Graduate')\n",
    "axs[1].set_ylabel('Prior expected utility')\n",
    "axs[1].set_ylim(top=8)\n",
    "\n",
    "\n",
    "axs[2].bar(np.arange(1, par.N+1), new_realized_utility)\n",
    "axs[2].set_title('Average ex post utility after new career')\n",
    "axs[2].set_xlabel('Graduate')\n",
    "axs[2].set_ylabel('Ex post utility')\n",
    "axs[2].set_ylim(top=8)\n",
    "\n",
    "plt.tight_layout()\n",
    "plt.show()\n"
   ]
  },
  {
   "cell_type": "markdown",
   "metadata": {},
   "source": [
    "## 3. <a id='toc3_'></a>[Problem 3: Barycentric interpolation](#toc0_)"
   ]
  },
  {
   "cell_type": "markdown",
   "metadata": {},
   "source": [
    "**Problem:** We have a set of random points in the unit square,\n",
    "\n",
    "$$\n",
    "\\mathcal{X} = \\{(x_1,x_2)\\,|\\,x_1\\sim\\mathcal{U}(0,1),x_2\\sim\\mathcal{U}(0,1)\\}.\n",
    "$$\n",
    "\n",
    "For these points, we know the value of some function $f(x_1,x_2)$,\n",
    "\n",
    "$$\n",
    "\\mathcal{F} = \\{f(x_1,x_2) \\,|\\, (x_1,x_2) \\in \\mathcal{X}\\}.\n",
    "$$\n",
    "\n",
    "Now we want to approximate the value $f(y_1,y_2)$ for some  $y=(y_1,y_2)$, where $y_1\\sim\\mathcal{U}(0,1)$ and $y_2\\sim\\mathcal{U}(0,1)$.\n",
    "\n",
    "**Building block I**\n",
    "\n",
    "For an arbitrary triangle $ABC$ and a point $y$, define the so-called barycentric coordinates as:\n",
    "\n",
    "$$\n",
    "\\begin{align*}\n",
    "  r^{ABC}_1 &= \\frac{(B_2-C_2)(y_1-C_1) + (C_1-B_1)(y_2-C_2)}{(B_2-C_2)(A_1-C_1) + (C_1-B_1)(A_2-C_2)} \\\\\n",
    "  r^{ABC}_2 &= \\frac{(C_2-A_2)(y_1-C_1) + (A_1-C_1)(y_2-C_2)}{(B_2-C_2)(A_1-C_1) + (C_1-B_1)(A_2-C_2)} \\\\\n",
    "  r^{ABC}_3 &= 1 - r_1 - r_2.\n",
    "\\end{align*}\n",
    "$$\n",
    "\n",
    "If $r^{ABC}_1 \\in [0,1]$, $r^{ABC}_2 \\in [0,1]$, and $r^{ABC}_3 \\in [0,1]$, then the point is inside the triangle.\n",
    "\n",
    "We always have $y = r^{ABC}_1 A + r^{ABC}_2 B + r^{ABC}_3 C$.\n",
    "\n",
    "**Building block II**\n",
    "\n",
    "Define the following points:\n",
    "\n",
    "$$\n",
    "\\begin{align*}\n",
    "A&=\\arg\\min_{(x_{1},x_{2})\\in\\mathcal{X}}\\sqrt{\\left(x_{1}-y_{1}\\right)^{2}+\\left(x_{2}-y_{2}\\right)^{2}}\\text{ s.t. }x_{1}>y_{1}\\text{ and }x_{2}>y_{2}\\\\\n",
    "B&=\\arg\\min_{(x_{1},x_{2})\\in\\mathcal{X}}\\sqrt{\\left(x_{1}-y_{1}\\right)^{2}+\\left(x_{2}-y_{2}\\right)^{2}}\\text{ s.t. }x_{1}>y_{1}\\text{ and }x_{2}<y_{2}\\\\\n",
    "C&=\\arg\\min_{(x_{1},x_{2})\\in\\mathcal{X}}\\sqrt{\\left(x_{1}-y_{1}\\right)^{2}+\\left(x_{2}-y_{2}\\right)^{2}}\\text{ s.t. }x_{1}<y_{1}\\text{ and }x_{2}<y_{2}\\\\\n",
    "D&=\\arg\\min_{(x_{1},x_{2})\\in\\mathcal{X}}\\sqrt{\\left(x_{1}-y_{1}\\right)^{2}+\\left(x_{2}-y_{2}\\right)^{2}}\\text{ s.t. }x_{1}<y_{1}\\text{ and }x_{2}>y_{2}.\n",
    "\\end{align*}\n",
    "$$\n",
    "\n",
    "**Algorithm:**\n",
    "\n",
    "1. Compute $A$, $B$, $C$, and $D$. If not possible return `NaN`.\n",
    "1. If $y$ is inside the triangle $ABC$ return $r^{ABC}_1 f(A) + r^{ABC}_2 f(B) + r^{ABC}_3 f(C)$.\n",
    "1. If $y$ is inside the triangle $CDA$ return $r^{CDA}_1 f(C) + r^{CDA}_2 f(D) + r^{CDA}_3 f(A)$.\n",
    "1. Return `NaN`.\n",
    "\n"
   ]
  },
  {
   "cell_type": "markdown",
   "metadata": {},
   "source": [
    "**Sample:**"
   ]
  },
  {
   "cell_type": "code",
   "execution_count": null,
   "metadata": {},
   "outputs": [],
   "source": [
    "rng = np.random.default_rng(2024)\n",
    "\n",
    "X = rng.uniform(size=(50,2))\n",
    "y = rng.uniform(size=(2,))\n"
   ]
  },
  {
   "cell_type": "markdown",
   "metadata": {},
   "source": [
    "**Questions 1:** Find $A$, $B$, $C$ and $D$. Illustrate these together with $X$, $y$ and the triangles $ABC$ and $CDA$."
   ]
  },
  {
   "cell_type": "code",
   "execution_count": null,
   "metadata": {},
   "outputs": [],
   "source": [
    "# write your answer here"
   ]
  },
  {
   "cell_type": "markdown",
   "metadata": {},
   "source": [
    "**Question 2:** Compute the barycentric coordinates of the point $y$ with respect to the triangles $ABC$ and $CDA$. Which triangle is $y$ located inside?"
   ]
  },
  {
   "cell_type": "code",
   "execution_count": null,
   "metadata": {},
   "outputs": [],
   "source": [
    "# write your answer here"
   ]
  },
  {
   "cell_type": "markdown",
   "metadata": {},
   "source": [
    "Now consider the function:\n",
    "$$\n",
    "f(x_1,x_2) = x_1 \\cdot x_2\n",
    "$$"
   ]
  },
  {
   "cell_type": "code",
   "execution_count": null,
   "metadata": {},
   "outputs": [],
   "source": [
    "f = lambda x: x[0]*x[1]\n",
    "F = np.array([f(x) for x in X])"
   ]
  },
  {
   "cell_type": "markdown",
   "metadata": {},
   "source": [
    "**Question 3:** Compute the approximation of $f(y)$ using the full algorithm. Compare with the true value."
   ]
  },
  {
   "cell_type": "code",
   "execution_count": null,
   "metadata": {},
   "outputs": [],
   "source": [
    "# write your answer here"
   ]
  },
  {
   "cell_type": "markdown",
   "metadata": {},
   "source": [
    "**Question 4:** Repeat question 3 for all points in the set $Y$."
   ]
  },
  {
   "cell_type": "code",
   "execution_count": null,
   "metadata": {},
   "outputs": [],
   "source": [
    "Y = [(0.2,0.2),(0.8,0.2),(0.8,0.8),(0.8,0.2),(0.5,0.5)]"
   ]
  },
  {
   "cell_type": "code",
   "execution_count": null,
   "metadata": {},
   "outputs": [],
   "source": [
    "# write your answer here"
   ]
  }
 ],
 "metadata": {
  "kernelspec": {
   "display_name": "base",
   "language": "python",
   "name": "python3"
  },
  "language_info": {
   "codemirror_mode": {
    "name": "ipython",
    "version": 3
   },
   "file_extension": ".py",
   "mimetype": "text/x-python",
   "name": "python",
   "nbconvert_exporter": "python",
   "pygments_lexer": "ipython3",
   "version": "3.11.5"
  }
 },
 "nbformat": 4,
 "nbformat_minor": 2
}
